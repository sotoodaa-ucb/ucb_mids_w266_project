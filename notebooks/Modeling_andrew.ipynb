{
 "cells": [
  {
   "cell_type": "code",
   "execution_count": 2,
   "metadata": {
    "colab": {
     "base_uri": "https://localhost:8080/"
    },
    "id": "bgvmxkHtHVtd",
    "outputId": "f1c06018-60de-444f-e310-d2c8f20b8b23"
   },
   "outputs": [
    {
     "name": "stdout",
     "output_type": "stream",
     "text": [
      "Requirement already satisfied: transformers in /usr/local/lib/python3.8/dist-packages (4.9.1)\n",
      "Requirement already satisfied: regex!=2019.12.17 in /usr/local/lib/python3.8/dist-packages (from transformers) (2021.11.10)\n",
      "Requirement already satisfied: pyyaml>=5.1 in /usr/local/lib/python3.8/dist-packages (from transformers) (6.0)\n",
      "Requirement already satisfied: requests in /usr/local/lib/python3.8/dist-packages (from transformers) (2.27.1)\n",
      "Requirement already satisfied: sacremoses in /usr/local/lib/python3.8/dist-packages (from transformers) (0.0.47)\n",
      "Requirement already satisfied: tqdm>=4.27 in /usr/local/lib/python3.8/dist-packages (from transformers) (4.62.3)\n",
      "Requirement already satisfied: huggingface-hub==0.0.12 in /usr/local/lib/python3.8/dist-packages (from transformers) (0.0.12)\n",
      "Requirement already satisfied: tokenizers<0.11,>=0.10.1 in /usr/local/lib/python3.8/dist-packages (from transformers) (0.10.3)\n",
      "Requirement already satisfied: filelock in /usr/local/lib/python3.8/dist-packages (from transformers) (3.4.2)\n",
      "Requirement already satisfied: numpy>=1.17 in /usr/local/lib/python3.8/dist-packages (from transformers) (1.19.4)\n",
      "Requirement already satisfied: packaging in /usr/local/lib/python3.8/dist-packages (from transformers) (21.3)\n",
      "Requirement already satisfied: typing-extensions in /usr/local/lib/python3.8/dist-packages (from huggingface-hub==0.0.12->transformers) (3.7.4.3)\n",
      "Requirement already satisfied: pyparsing!=3.0.5,>=2.0.2 in /usr/local/lib/python3.8/dist-packages (from packaging->transformers) (3.0.6)\n",
      "Requirement already satisfied: idna<4,>=2.5 in /usr/local/lib/python3.8/dist-packages (from requests->transformers) (3.3)\n",
      "Requirement already satisfied: urllib3<1.27,>=1.21.1 in /usr/local/lib/python3.8/dist-packages (from requests->transformers) (1.26.12)\n",
      "Requirement already satisfied: certifi>=2017.4.17 in /usr/local/lib/python3.8/dist-packages (from requests->transformers) (2021.10.8)\n",
      "Requirement already satisfied: charset-normalizer~=2.0.0 in /usr/local/lib/python3.8/dist-packages (from requests->transformers) (2.0.10)\n",
      "Requirement already satisfied: six in /usr/local/lib/python3.8/dist-packages (from sacremoses->transformers) (1.15.0)\n",
      "Requirement already satisfied: click in /usr/local/lib/python3.8/dist-packages (from sacremoses->transformers) (8.0.3)\n",
      "Requirement already satisfied: joblib in /usr/local/lib/python3.8/dist-packages (from sacremoses->transformers) (1.1.0)\n",
      "\u001b[33mWARNING: Running pip as the 'root' user can result in broken permissions and conflicting behaviour with the system package manager. It is recommended to use a virtual environment instead: https://pip.pypa.io/warnings/venv\u001b[0m\n",
      "\u001b[33mWARNING: You are using pip version 21.3.1; however, version 22.3.1 is available.\n",
      "You should consider upgrading via the '/usr/bin/python -m pip install --upgrade pip' command.\u001b[0m\n",
      "Requirement already satisfied: wandb in /usr/local/lib/python3.8/dist-packages (0.13.5)\n",
      "Requirement already satisfied: psutil>=5.0.0 in /usr/local/lib/python3.8/dist-packages (from wandb) (5.7.0)\n",
      "Requirement already satisfied: docker-pycreds>=0.4.0 in /usr/local/lib/python3.8/dist-packages (from wandb) (0.4.0)\n",
      "Requirement already satisfied: shortuuid>=0.5.0 in /usr/local/lib/python3.8/dist-packages (from wandb) (1.0.9)\n",
      "Requirement already satisfied: Click!=8.0.0,>=7.0 in /usr/local/lib/python3.8/dist-packages (from wandb) (8.0.3)\n",
      "Requirement already satisfied: setproctitle in /usr/local/lib/python3.8/dist-packages (from wandb) (1.3.2)\n",
      "Requirement already satisfied: promise<3,>=2.0 in /usr/local/lib/python3.8/dist-packages (from wandb) (2.3)\n",
      "Requirement already satisfied: setuptools in /usr/local/lib/python3.8/dist-packages (from wandb) (59.4.0)\n",
      "Requirement already satisfied: requests<3,>=2.0.0 in /usr/local/lib/python3.8/dist-packages (from wandb) (2.27.1)\n",
      "Requirement already satisfied: protobuf!=4.0.*,!=4.21.0,<5,>=3.12.0 in /usr/local/lib/python3.8/dist-packages (from wandb) (3.17.3)\n",
      "Requirement already satisfied: six>=1.13.0 in /usr/local/lib/python3.8/dist-packages (from wandb) (1.15.0)\n",
      "Requirement already satisfied: sentry-sdk>=1.0.0 in /usr/local/lib/python3.8/dist-packages (from wandb) (1.10.1)\n",
      "Requirement already satisfied: PyYAML in /usr/local/lib/python3.8/dist-packages (from wandb) (6.0)\n",
      "Requirement already satisfied: GitPython>=1.0.0 in /usr/local/lib/python3.8/dist-packages (from wandb) (3.1.29)\n",
      "Requirement already satisfied: pathtools in /usr/local/lib/python3.8/dist-packages (from wandb) (0.1.2)\n",
      "Requirement already satisfied: gitdb<5,>=4.0.1 in /usr/local/lib/python3.8/dist-packages (from GitPython>=1.0.0->wandb) (4.0.9)\n",
      "Requirement already satisfied: urllib3<1.27,>=1.21.1 in /usr/local/lib/python3.8/dist-packages (from requests<3,>=2.0.0->wandb) (1.26.12)\n",
      "Requirement already satisfied: charset-normalizer~=2.0.0 in /usr/local/lib/python3.8/dist-packages (from requests<3,>=2.0.0->wandb) (2.0.10)\n",
      "Requirement already satisfied: idna<4,>=2.5 in /usr/local/lib/python3.8/dist-packages (from requests<3,>=2.0.0->wandb) (3.3)\n",
      "Requirement already satisfied: certifi>=2017.4.17 in /usr/local/lib/python3.8/dist-packages (from requests<3,>=2.0.0->wandb) (2021.10.8)\n",
      "Requirement already satisfied: smmap<6,>=3.0.1 in /usr/local/lib/python3.8/dist-packages (from gitdb<5,>=4.0.1->GitPython>=1.0.0->wandb) (5.0.0)\n",
      "\u001b[33mWARNING: Running pip as the 'root' user can result in broken permissions and conflicting behaviour with the system package manager. It is recommended to use a virtual environment instead: https://pip.pypa.io/warnings/venv\u001b[0m\n",
      "\u001b[33mWARNING: You are using pip version 21.3.1; however, version 22.3.1 is available.\n",
      "You should consider upgrading via the '/usr/bin/python -m pip install --upgrade pip' command.\u001b[0m\n",
      "Building jupyterlab assets (build:prod:minimize)\n"
     ]
    }
   ],
   "source": [
    "!pip install transformers\n",
    "!pip install wandb\n",
    "!jupyter labextension install @jupyter-widgets/jupyterlab-manager"
   ]
  },
  {
   "cell_type": "code",
   "execution_count": 16,
   "metadata": {
    "colab": {
     "base_uri": "https://localhost:8080/"
    },
    "id": "4Kmx0M90i49_",
    "outputId": "06bf19d9-56af-4e0d-c7fd-76562a7c8c0b"
   },
   "outputs": [
    {
     "name": "stderr",
     "output_type": "stream",
     "text": [
      "[nltk_data] Downloading package wordnet to /root/nltk_data...\n",
      "[nltk_data]   Package wordnet is already up-to-date!\n",
      "[nltk_data] Downloading package omw-1.4 to /root/nltk_data...\n",
      "[nltk_data]   Package omw-1.4 is already up-to-date!\n"
     ]
    },
    {
     "data": {
      "text/plain": [
       "True"
      ]
     },
     "execution_count": 16,
     "metadata": {},
     "output_type": "execute_result"
    }
   ],
   "source": [
    "import re\n",
    "import nltk\n",
    "import wandb\n",
    "import pandas as pd\n",
    "import torch\n",
    "import torch.nn as nn\n",
    "import torch.nn.functional as F\n",
    "from nltk.stem import WordNetLemmatizer\n",
    "from transformers import AutoModel, AutoTokenizer, AdamW, get_linear_schedule_with_warmup\n",
    "from torch.utils.data import DataLoader, Dataset\n",
    "\n",
    "from tqdm import tqdm\n",
    "import numpy as np\n",
    "import random\n",
    "\n",
    "nltk.download('wordnet')\n",
    "nltk.download('omw-1.4')"
   ]
  },
  {
   "cell_type": "code",
   "execution_count": 61,
   "metadata": {
    "id": "EUAnAqC-s4uz"
   },
   "outputs": [],
   "source": [
    "all = pd.read_parquet('./data/train_all.parquet')\n",
    "orders = pd.read_parquet('./data/train_orders.parquet')\n",
    "ancestors = pd.read_parquet('./data/train_ancestors.parquet')"
   ]
  },
  {
   "cell_type": "code",
   "execution_count": 35,
   "metadata": {},
   "outputs": [],
   "source": [
    "# Uncomment this to subset the data in order to test training or validation logic.\n",
    "\n",
    "# N_SAMPLES = 100\n",
    "# sample_ids = random.sample(list(all['id'].unique()), N_SAMPLES)\n",
    "# all = all.set_index('id').loc[sample_ids].reset_index()"
   ]
  },
  {
   "cell_type": "code",
   "execution_count": 62,
   "metadata": {
    "id": "PZrOUsXb88AV"
   },
   "outputs": [],
   "source": [
    "# Orders dataframe currently contains cell orders as a string, i.e \"a b c\"\n",
    "# We want to convert that into a list of strings: [\"a\", \"b\", \"c\"]\n",
    "orders['cell_order'] = orders['cell_order'].str.split(' ').tolist()"
   ]
  },
  {
   "cell_type": "code",
   "execution_count": 63,
   "metadata": {
    "id": "hkBSYrzR06Qk"
   },
   "outputs": [],
   "source": [
    "stemmer = WordNetLemmatizer()\n",
    "\n",
    "def links_to_word(text):\n",
    "    return re.sub(\"https?:\\/\\/[^\\s]+\", \" link \", text)\n",
    "\n",
    "def no_char(text):\n",
    "    text = re.sub(r\"\\s+[a-zA-Z]\\s+\", \" \", text)\n",
    "    text = re.sub(r\"\\^[a-zA-Z]\\s+\", \" \", text)\n",
    "    text = re.sub(r\"\\s+[a-zA-Z]$\", \" \", text)\n",
    "    return text\n",
    "\n",
    "def no_markdown_special(text):\n",
    "    \"\"\"Remove reserved markdown special characters.\n",
    "    \"\"\"\n",
    "    return re.sub(r\"[\\.\\*\\+\\-\\_\\>\\<\\~\\(\\)\\[\\]]\", \" \", text)\n",
    "\n",
    "def no_html_tags(text):\n",
    "    return re.sub(\"<.*?>\", \" \", text)\n",
    "\n",
    "def no_multi_spaces(text):\n",
    "    return re.sub(r\"\\s+\", \" \", text, flags=re.I)\n",
    "\n",
    "def lemmatize(text):\n",
    "    tokens = text.split()\n",
    "    tokens = [stemmer.lemmatize(word) for word in tokens]\n",
    "    return \" \".join(tokens)\n",
    "\n",
    "def underscore_to_space(text: str):\n",
    "    text = text.replace(\"_\", \" \")\n",
    "    text = text.replace(\"-\", \" \")\n",
    "    return text\n",
    "\n",
    "def no_markdown_special(text):\n",
    "    try:\n",
    "        text = text[0] + re.sub(r\"(?<!\\n)[\\*\\+\\-\\>]\", \" \", text[1:])\n",
    "        text = re.sub(r\"\\(\\)\\[\\]\\{\\}\\<\\>\\~\\|\\`\\.\", \" \", text)\n",
    "    except IndexError:\n",
    "        return \"\"\n",
    "    return text\n",
    "\n",
    "def code_preprocess(code):\n",
    "    code = links_to_word(code)\n",
    "    code = lemmatize(code)\n",
    "    return code\n",
    "\n",
    "def markdown_preprocess(code: str):\n",
    "    \"\"\"\n",
    "    1. Replace new lines with unused token.\n",
    "    2. Remove HTML Tags and special markdown symbols.\n",
    "    3. Clear html tags first, then markdown...\n",
    "    \"\"\"\n",
    "    code = code.replace(\"\\n\", \"[unused1]\")\n",
    "    code = links_to_word(code)\n",
    "    code = no_html_tags(code)\n",
    "    code = no_markdown_special(code)\n",
    "    code = no_multi_spaces(code)\n",
    "    code = lemmatize(code)\n",
    "    return code\n",
    "\n",
    "def preprocessor(text: str, cell_type: str):\n",
    "    return dict(code=code_preprocess, markdown=markdown_preprocess)[cell_type](text)\n",
    "\n",
    "def sample_cells(cells, n):\n",
    "    \"\"\"\n",
    "    Picking 20 cells for global context.\n",
    "    \"\"\"\n",
    "    cells = [code_preprocess(cell) for cell in cells]\n",
    "    if n >= len(cells):\n",
    "        return [cell[:200] for cell in cells]\n",
    "    else:\n",
    "        results = []\n",
    "        step = len(cells) / n\n",
    "        idx = 0\n",
    "        while int(np.round(idx)) < len(cells):\n",
    "            results.append(cells[int(np.round(idx))])\n",
    "            idx += step\n",
    "        assert cells[0] in results\n",
    "        if cells[-1] not in results:\n",
    "            results[-1] = cells[-1]\n",
    "        return results\n",
    "\n",
    "def get_features(df):\n",
    "    features = dict()\n",
    "\n",
    "    # Group by notebook and loop through unique notebooks.\n",
    "    for idx, sub_df in tqdm(df.groupby(\"id\")):\n",
    "        features[idx] = dict()\n",
    "\n",
    "        # Get count of markdown cells in current notebook.\n",
    "        total_md = sub_df[sub_df.cell_type == \"markdown\"].shape[0]\n",
    "\n",
    "        # Get count of code cells in current notebook.\n",
    "        code_sub_df = sub_df[sub_df.cell_type == \"code\"]\n",
    "        total_code = code_sub_df.shape[0]\n",
    "\n",
    "        # Sample 20 code cells.\n",
    "        # codes = sample_cells(code_sub_df.source.values, 20)\n",
    "        codes = code_sub_df.source.values\n",
    "        features[idx][\"total_code\"] = total_code\n",
    "        features[idx][\"total_md\"] = total_md\n",
    "        features[idx][\"codes\"] = codes\n",
    "    return features"
   ]
  },
  {
   "cell_type": "code",
   "execution_count": 64,
   "metadata": {
    "id": "Pp_oKQuTsHi_"
   },
   "outputs": [],
   "source": [
    "class MarkdownModel(nn.Module):\n",
    "    def __init__(self, model_path):\n",
    "        super(MarkdownModel, self).__init__()\n",
    "        self.model = AutoModel.from_pretrained(model_path)\n",
    "\n",
    "        # Bert embeddings are 768-d + 1 for code cell percentage.\n",
    "        self.top = nn.Linear(769, 1)\n",
    "\n",
    "    def forward(self, ids, mask, features):\n",
    "        # Embeddings\n",
    "        x = self.model(ids, mask)[0]\n",
    "\n",
    "        # Concatenate with features.\n",
    "        x = torch.cat((x[:, 0, :], features), 1)\n",
    "        x = self.top(x)\n",
    "        return x\n",
    "\n",
    "class MarkdownDataset(Dataset):\n",
    "    \"\"\"Encapsulates Markdown dataset into a single object.\n",
    "\n",
    "    :param markdown_rows: Pandas dataframe containing markdown content.\n",
    "    :param features: Extra features (number code cells, \n",
    "    :param md_max_len: Maximum length of markdown tokenized embedding.\n",
    "    :param total_max_len: Maximum Length of the tokenized input to bert.\n",
    "    :param model_name: Name of pretrained bert base model.\n",
    "\n",
    "    :attr tokenizer: Tokenizer class based on provided model_name.\n",
    "    :\n",
    "    \"\"\"\n",
    "    def __init__(\n",
    "        self,\n",
    "        markdown_rows: pd.DataFrame,\n",
    "        features: dict,\n",
    "        total_max_len: int,\n",
    "        md_max_len: int,\n",
    "        model_name: str = 'microsoft/codebert-base'\n",
    "    ):\n",
    "        super().__init__()\n",
    "        self.markdown_rows = markdown_rows.reset_index(drop=True)\n",
    "        self.features = features\n",
    "        self.md_max_len = md_max_len\n",
    "        self.total_max_len = total_max_len\n",
    "        self.model_name = model_name\n",
    "        self.tokenizer = AutoTokenizer.from_pretrained(\n",
    "            self.model_name,\n",
    "            do_lower_case=True,\n",
    "            use_fast=True\n",
    "        )\n",
    "\n",
    "    def __getitem__(self, index):\n",
    "        row = self.markdown_rows.iloc[index]\n",
    "\n",
    "        # Encode markdown into embedding.\n",
    "        inputs = self.tokenizer.encode_plus(\n",
    "            row.source,\n",
    "            None,\n",
    "            add_special_tokens=True,\n",
    "            max_length=self.md_max_len,\n",
    "            padding=\"max_length\",\n",
    "            return_token_type_ids=True,\n",
    "            truncation=True\n",
    "        )\n",
    "\n",
    "        try:\n",
    "            # Encode code into embedding.\n",
    "            # Batch encode does not like empty lists!\n",
    "            code_cells = self.features[row.id][\"codes\"]\n",
    "            code_inputs = self.tokenizer.batch_encode_plus(\n",
    "                [str(cell) for cell in code_cells] if len(code_cells) > 0 else [''],\n",
    "                add_special_tokens=True,\n",
    "                max_length=23,\n",
    "                padding=\"max_length\",\n",
    "                truncation=True\n",
    "            )\n",
    "        except Exception as e:\n",
    "            # print(self.features[row.id][\"codes\"])\n",
    "            code_cells = self.features[row.id][\"codes\"]\n",
    "            print(len(code_cells))\n",
    "            # print([str(cell) for cell in code_cells] if len(code_cells) > 0 else [''])\n",
    "            raise ValueError(e)\n",
    "\n",
    "        # Other features (number of markdown cells, number of code cells)\n",
    "        n_md = self.features[row.id][\"total_md\"]\n",
    "        n_code = self.features[row.id][\"total_code\"]\n",
    "\n",
    "        # Get percentage of markdown relative to total cells.\n",
    "        if n_md + n_code == 0:\n",
    "            features = torch.FloatTensor([0])\n",
    "        else:\n",
    "            features = torch.FloatTensor([n_md / (n_md + n_code)])\n",
    "\n",
    "        # Get markdown embedding tokens.\n",
    "        ids = inputs['input_ids']\n",
    "        for x in code_inputs['input_ids']:\n",
    "            # Exclude separator token.\n",
    "            ids.extend(x[:-1])\n",
    "\n",
    "        # Trim to max length.\n",
    "        ids = ids[:self.total_max_len]\n",
    "\n",
    "        # Apply padding if code + markdown tokens is less than max.\n",
    "        if len(ids) < self.total_max_len:\n",
    "            ids = ids + [self.tokenizer.pad_token_id, ] * (self.total_max_len - len(ids))\n",
    "\n",
    "        # Concatenated embeddings input as a tensor.\n",
    "        ids = torch.LongTensor(ids)\n",
    "\n",
    "        # Do the same for the attention mask.\n",
    "        mask = inputs['attention_mask']\n",
    "        for x in code_inputs['attention_mask']:\n",
    "            # Remove mask for separator toekn.\n",
    "            mask.extend(x[:-1])\n",
    "\n",
    "        mask = mask[:self.total_max_len]\n",
    "        if len(mask) != self.total_max_len:\n",
    "            mask = mask + [self.tokenizer.pad_token_id, ] * (self.total_max_len - len(mask))\n",
    "        mask = torch.LongTensor(mask)\n",
    "\n",
    "        # Tokens should be equal to the maximum length.\n",
    "        assert len(ids) == self.total_max_len\n",
    "\n",
    "        # Tokens, attention mask, markdown percentage feature, and label.\n",
    "        return ids, mask, features, torch.FloatTensor([row.pct_rank])\n",
    "\n",
    "    def __len__(self):\n",
    "        return self.markdown_rows.shape[0]"
   ]
  },
  {
   "cell_type": "code",
   "execution_count": 65,
   "metadata": {
    "id": "VCnB0hN_E9L_"
   },
   "outputs": [],
   "source": [
    "from bisect import bisect\n",
    "\n",
    "\"\"\"\n",
    "Pulled evaluation metric directly from Kaggle.\n",
    "\"\"\"\n",
    "def count_inversions(a):\n",
    "    inversions = 0\n",
    "    sorted_so_far = []\n",
    "    for i, u in enumerate(a):\n",
    "        j = bisect(sorted_so_far, u)\n",
    "        inversions += i - j\n",
    "        sorted_so_far.insert(j, u)\n",
    "    return inversions\n",
    "\n",
    "def kendall_tau(ground_truth, predictions):\n",
    "    total_inversions = 0\n",
    "    total_2max = 0  # twice the maximum possible inversions across all instances\n",
    "    for gt, pred in zip(ground_truth, predictions):\n",
    "        ranks = [gt.index(x) for x in pred]  # rank predicted order in terms of ground truth\n",
    "        total_inversions += count_inversions(ranks)\n",
    "        n = len(gt)\n",
    "        total_2max += n * (n - 1)\n",
    "    return 1 - 4 * total_inversions / total_2max"
   ]
  },
  {
   "cell_type": "code",
   "execution_count": 66,
   "metadata": {
    "colab": {
     "base_uri": "https://localhost:8080/"
    },
    "id": "GMS1TkJ7_8sW",
    "outputId": "304d1930-dd30-47e6-8b5b-b070da76060b"
   },
   "outputs": [
    {
     "name": "stderr",
     "output_type": "stream",
     "text": [
      "100%|██████████| 83334/83334 [01:11<00:00, 1168.25it/s]\n",
      "100%|██████████| 50455/50455 [00:43<00:00, 1169.44it/s]\n",
      "100%|██████████| 5467/5467 [00:04<00:00, 1165.52it/s]\n"
     ]
    }
   ],
   "source": [
    "from sklearn.model_selection import GroupShuffleSplit\n",
    "\n",
    "# Create label.\n",
    "all['pct_rank'] = all['order'] / all.groupby(\"id\")[\"cell\"].transform(\"count\")\n",
    "\n",
    "VALID_RATIO = 0.3\n",
    "TEST_RATIO = 0.1\n",
    "\n",
    "train_splitter = GroupShuffleSplit(n_splits=1, test_size=VALID_RATIO+TEST_RATIO, random_state=0)\n",
    "val_splitter = GroupShuffleSplit(n_splits=1, test_size=TEST_RATIO, random_state=0)\n",
    "\n",
    "# Split into train, (val + test) - 60% - 40%.\n",
    "train_ind, val_ind = next(train_splitter.split(all, groups=all[\"ancestor_id\"]))\n",
    "\n",
    "train_df = all.loc[train_ind].reset_index(drop=True)\n",
    "train_features = get_features(train_df)\n",
    "\n",
    "val_test_df = all.loc[val_ind].reset_index(drop=True)\n",
    "\n",
    "# Split val into val, test - 90% - 10%.\n",
    "val_ind, test_ind = next(val_splitter.split(val_test_df, groups=val_test_df[\"ancestor_id\"]))\n",
    "\n",
    "val_df = val_test_df.loc[val_ind].reset_index(drop=True)\n",
    "val_features = get_features(val_df)\n",
    "\n",
    "test_df = val_test_df.loc[test_ind].reset_index(drop=True)\n",
    "test_features = get_features(test_df)\n",
    "\n",
    "# Final sizes:\n",
    "# Train - 60%\n",
    "# Validation - 30%\n",
    "# Test - 10%"
   ]
  },
  {
   "cell_type": "code",
   "execution_count": 41,
   "metadata": {
    "id": "8h_OGe-0wi7l"
   },
   "outputs": [
    {
     "name": "stdout",
     "output_type": "stream",
     "text": [
      "2561\n",
      "1322\n",
      "254\n"
     ]
    }
   ],
   "source": [
    "print(train_df.shape[0])\n",
    "print(val_df.shape[0])\n",
    "print(test_df.shape[0])"
   ]
  },
  {
   "cell_type": "code",
   "execution_count": 67,
   "metadata": {
    "id": "r5Xr62u52pTE"
   },
   "outputs": [],
   "source": [
    "markdown_train = train_df[train_df['cell_type'] == 'markdown']\n",
    "markdown_val = val_df[val_df['cell_type'] == 'markdown']\n",
    "markdown_test = test_df[test_df['cell_type'] == 'markdown']\n",
    "\n",
    "train_ds = MarkdownDataset(\n",
    "    markdown_train,\n",
    "    features = train_features,\n",
    "    total_max_len = 400,\n",
    "    md_max_len = 200\n",
    ")\n",
    "\n",
    "val_ds = MarkdownDataset(\n",
    "    markdown_val,\n",
    "    features = val_features,\n",
    "    total_max_len = 400,\n",
    "    md_max_len = 200\n",
    ")\n",
    "\n",
    "test_ds = MarkdownDataset(\n",
    "    markdown_test,\n",
    "    features = test_features,\n",
    "    total_max_len = 400,\n",
    "    md_max_len = 200\n",
    ")\n",
    "\n",
    "train_loader = DataLoader(\n",
    "    train_ds,\n",
    "    batch_size=1,\n",
    "    num_workers=0,\n",
    "    pin_memory=False,\n",
    "    drop_last=True,\n",
    "    shuffle=True\n",
    ")\n",
    "\n",
    "val_loader = DataLoader(\n",
    "    val_ds,\n",
    "    batch_size=1,\n",
    "    num_workers=0,\n",
    "    pin_memory=False,\n",
    "    drop_last=True,\n",
    "    shuffle=False\n",
    ")\n",
    "\n",
    "test_loader = DataLoader(\n",
    "    test_ds,\n",
    "    batch_size=1,\n",
    "    num_workers=0,\n",
    "    pin_memory=False,\n",
    "    drop_last=True,\n",
    "    shuffle=False\n",
    ")\n"
   ]
  },
  {
   "cell_type": "code",
   "execution_count": 93,
   "metadata": {
    "id": "QKsXWHNr_Vuq"
   },
   "outputs": [],
   "source": [
    "import json\n",
    "from datetime import datetime\n",
    "from pathlib import Path\n",
    "import numpy as np\n",
    "import pandas as pd\n",
    "from torch.utils.data import DataLoader, Dataset\n",
    "from tqdm import tqdm\n",
    "import sys, os\n",
    "\n",
    "MODEL_NAME = 'baseline'\n",
    "\n",
    "def train(model, train_loader, val_loader, epochs):\n",
    "    np.random.seed(0)\n",
    "\n",
    "    early_stop_count = 0\n",
    "    patience = 5\n",
    "    best_loss = 1_000_000\n",
    "    best_vloss = 1_000_000\n",
    "\n",
    "    # Creating optimizer and lr schedulers\n",
    "    param_optimizer = list(model.named_parameters())\n",
    "    no_decay = ['bias', 'LayerNorm.bias', 'LayerNorm.weight']\n",
    "    optimizer_grouped_parameters = [\n",
    "        {'params': [p for n, p in param_optimizer if not any(nd in n for nd in no_decay)], 'weight_decay': 0.01},\n",
    "        {'params': [p for n, p in param_optimizer if any(nd in n for nd in no_decay)], 'weight_decay': 0.0}\n",
    "    ]\n",
    "    num_train_optimization_steps = int(epochs * len(train_loader) / 4)\n",
    "\n",
    "    # To reproduce BertAdam specific behavior set correct_bias=False\n",
    "    optimizer = AdamW(\n",
    "        optimizer_grouped_parameters,\n",
    "        lr=3e-5,\n",
    "        correct_bias=False\n",
    "    )  \n",
    "\n",
    "    # PyTorch scheduler\n",
    "    scheduler = get_linear_schedule_with_warmup(\n",
    "        optimizer,\n",
    "        num_warmup_steps=0.05 * num_train_optimization_steps,\n",
    "        num_training_steps=num_train_optimization_steps\n",
    "    )  \n",
    "\n",
    "    criterion = torch.nn.L1Loss()\n",
    "    scaler = torch.cuda.amp.GradScaler()\n",
    "\n",
    "    for e in range(epochs):\n",
    "        model.train()\n",
    "        tbar = tqdm(train_loader, file=sys.stdout)\n",
    "        loss_list = []\n",
    "        preds = []\n",
    "        labels = []\n",
    "\n",
    "        # Train\n",
    "        for idx, data in enumerate(tbar):\n",
    "            timestamp = datetime.now().strftime('%Y%m%d_%H%M%S')\n",
    "\n",
    "            ids, mask, features, target = [dp.cuda() for dp in data]\n",
    "\n",
    "            # Compute loss\n",
    "            with torch.cuda.amp.autocast():\n",
    "                pred = model(ids, mask, features)\n",
    "                loss = criterion(pred, target)\n",
    "\n",
    "            # Backprop\n",
    "            scaler.scale(loss).backward()\n",
    "\n",
    "            # Update optimizer and scheduler.\n",
    "            if idx % 4 == 0 or idx == len(tbar) - 1:\n",
    "                scaler.step(optimizer)\n",
    "                scaler.update()\n",
    "                optimizer.zero_grad()\n",
    "                scheduler.step()\n",
    "\n",
    "            loss_list.append(loss.detach().cpu().item())\n",
    "            preds.append(pred.detach().cpu().numpy().ravel())\n",
    "            labels.append(target.detach().cpu().numpy().ravel())\n",
    "\n",
    "            # Compute mean loss.\n",
    "            avg_loss = np.round(np.mean(loss_list), 4)\n",
    "\n",
    "            if idx % 25_000 == 0 and avg_loss < best_loss:\n",
    "                # Track best performance, and save the model's state\n",
    "                best_loss = avg_loss\n",
    "                model_path = 'models/{}_{}_{}_{}'.format(MODEL_NAME, timestamp, e, best_loss)\n",
    "                torch.save(model.state_dict(), model_path)\n",
    "\n",
    "            if idx % 1000 == 0 and avg_loss < best_loss:\n",
    "                wandb.log({\n",
    "                    'avg_loss': avg_loss,\n",
    "                    'best_loss': best_loss\n",
    "                })\n",
    "                early_stop_count = 0\n",
    "                \n",
    "            # Early stopping\n",
    "            if avg_loss > best_loss:\n",
    "                early_stop_count += 1\n",
    "                \n",
    "                if early_stop_count > patience:\n",
    "                    model_path = 'models/{}_{}_{}_{}'.format(MODEL_NAME, timestamp, e, best_loss)\n",
    "                    torch.save(model.state_dict(), model_path)\n",
    "                    break\n",
    "                       \n",
    "            # Update progress bar.\n",
    "            tbar.set_description(f\"Epoch {e + 1} Loss: {avg_loss} lr: {scheduler.get_last_lr()}\")\n",
    "\n",
    "\n",
    "    # Evaluation\n",
    "    model.eval()\n",
    "\n",
    "    tbar = tqdm(val_loader, file=sys.stdout)\n",
    "\n",
    "    preds = []\n",
    "    labels = []\n",
    "\n",
    "    with torch.no_grad():\n",
    "        for idx, data in enumerate(tbar):\n",
    "            ids, mask, features, target = [dp.cuda() for dp in data]\n",
    "\n",
    "            with torch.cuda.amp.autocast():\n",
    "                pred = model(ids, mask, features)\n",
    "\n",
    "            preds.append(pred.detach().cpu().numpy().ravel())\n",
    "            labels.append(target.detach().cpu().numpy().ravel())\n",
    "\n",
    "    _, y_pred = np.concatenate(labels), np.concatenate(preds)\n",
    "\n",
    "    # Create a placeholder prediction.\n",
    "    val_df[\"pred\"] = val_df.groupby([\"id\", \"cell_type\"])[\"order\"].rank(pct=True)\n",
    "    \n",
    "    # Replace pred column with predictions (only markdown cells since only markdown cells\n",
    "    # are randomized).\n",
    "    val_df.loc[val_df[\"cell_type\"] == \"markdown\", \"pred\"] = y_pred\n",
    "    \n",
    "    # Sort based on the predicted ranks, then obtain the order of cells as a list.\n",
    "    y_dummy = val_df.sort_values(\"pred\").groupby('id')['cell'].apply(list)\n",
    "    \n",
    "    # Get predictions in the same format as actuals.\n",
    "    prediction_cell_orders = y_dummy.to_frame()['cell']\n",
    "    \n",
    "    # Based on the notebook index, obtain the actual order from orders dataframe.\n",
    "    actual_cell_orders = orders.set_index('id').loc[y_dummy.index]['cell_order']\n",
    "    \n",
    "    # Compute metric.\n",
    "    kendall_tau_score = kendall_tau(actual_cell_orders, prediction_cell_orders)\n",
    "    print(\"Preds score\", kendall_tau_score)\n",
    "\n",
    "    return model, y_pred"
   ]
  },
  {
   "cell_type": "code",
   "execution_count": 101,
   "metadata": {
    "id": "7f1-jrn-thbn"
   },
   "outputs": [
    {
     "data": {
      "text/html": [
       "Finishing last run (ID:68q7dyvn) before initializing another..."
      ],
      "text/plain": [
       "<IPython.core.display.HTML object>"
      ]
     },
     "metadata": {},
     "output_type": "display_data"
    },
    {
     "data": {
      "text/html": [
       "Waiting for W&B process to finish... <strong style=\"color:green\">(success).</strong>"
      ],
      "text/plain": [
       "<IPython.core.display.HTML object>"
      ]
     },
     "metadata": {},
     "output_type": "display_data"
    },
    {
     "data": {
      "text/html": [
       "Synced <strong style=\"color:#cdcd00\">markdown-model-baseline</strong>: <a href=\"https://wandb.ai/sotoodaa/w266-project/runs/68q7dyvn\" target=\"_blank\">https://wandb.ai/sotoodaa/w266-project/runs/68q7dyvn</a><br/>Synced 4 W&B file(s), 0 media file(s), 0 artifact file(s) and 0 other file(s)"
      ],
      "text/plain": [
       "<IPython.core.display.HTML object>"
      ]
     },
     "metadata": {},
     "output_type": "display_data"
    },
    {
     "data": {
      "text/html": [
       "Find logs at: <code>./wandb/run-20221107_183313-68q7dyvn/logs</code>"
      ],
      "text/plain": [
       "<IPython.core.display.HTML object>"
      ]
     },
     "metadata": {},
     "output_type": "display_data"
    },
    {
     "data": {
      "text/html": [
       "Successfully finished last run (ID:68q7dyvn). Initializing new run:<br/>"
      ],
      "text/plain": [
       "<IPython.core.display.HTML object>"
      ]
     },
     "metadata": {},
     "output_type": "display_data"
    },
    {
     "data": {
      "application/vnd.jupyter.widget-view+json": {
       "model_id": "b0b435c6e8ed4f4d87dddc82defd8ab9",
       "version_major": 2,
       "version_minor": 0
      },
      "text/plain": [
       "VBox(children=(Label(value='Waiting for wandb.init()...\\r'), FloatProgress(value=0.016668263599664595, max=1.0…"
      ]
     },
     "metadata": {},
     "output_type": "display_data"
    },
    {
     "data": {
      "text/html": [
       "Tracking run with wandb version 0.13.5"
      ],
      "text/plain": [
       "<IPython.core.display.HTML object>"
      ]
     },
     "metadata": {},
     "output_type": "display_data"
    },
    {
     "data": {
      "text/html": [
       "Run data is saved locally in <code>/workspace/w266-project/wandb/run-20221107_183424-2tykrhzi</code>"
      ],
      "text/plain": [
       "<IPython.core.display.HTML object>"
      ]
     },
     "metadata": {},
     "output_type": "display_data"
    },
    {
     "data": {
      "text/html": [
       "Syncing run <strong><a href=\"https://wandb.ai/sotoodaa/w266-project/runs/2tykrhzi\" target=\"_blank\">markdown-model-baseline</a></strong> to <a href=\"https://wandb.ai/sotoodaa/w266-project\" target=\"_blank\">Weights & Biases</a> (<a href=\"https://wandb.me/run\" target=\"_blank\">docs</a>)<br/>"
      ],
      "text/plain": [
       "<IPython.core.display.HTML object>"
      ]
     },
     "metadata": {},
     "output_type": "display_data"
    },
    {
     "data": {
      "text/html": [
       "<button onClick=\"this.nextSibling.style.display='block';this.style.display='none';\">Display W&B run</button><iframe src=\"https://wandb.ai/sotoodaa/w266-project/runs/2tykrhzi?jupyter=true\" style=\"border:none;width:100%;height:420px;display:none;\"></iframe>"
      ],
      "text/plain": [
       "<wandb.sdk.wandb_run.Run at 0x7f5c44044c70>"
      ]
     },
     "execution_count": 101,
     "metadata": {},
     "output_type": "execute_result"
    }
   ],
   "source": [
    "wandb.init(project=\"w266-project\", entity=\"sotoodaa\", name='markdown-model-baseline-early-stopping')"
   ]
  },
  {
   "cell_type": "code",
   "execution_count": 100,
   "metadata": {
    "id": "fAYXLQmXE6os"
   },
   "outputs": [],
   "source": [
    "model = MarkdownModel('microsoft/codebert-base')\n",
    "model = model.cuda()"
   ]
  },
  {
   "cell_type": "code",
   "execution_count": 103,
   "metadata": {
    "id": "XOTk0sWhtjMC"
   },
   "outputs": [
    {
     "data": {
      "text/plain": [
       "[]"
      ]
     },
     "execution_count": 103,
     "metadata": {},
     "output_type": "execute_result"
    }
   ],
   "source": [
    "wandb.watch(model, log_freq=1000)"
   ]
  },
  {
   "cell_type": "code",
   "execution_count": null,
   "metadata": {
    "id": "R-8shVwQtd6S"
   },
   "outputs": [
    {
     "name": "stdout",
     "output_type": "stream",
     "text": [
      "Epoch 1 Loss: 0.2557 lr: [9.922209629453491e-06, 9.922209629453491e-06]:   2%|▏         | 21420/1295276 [22:14<20:51:13, 16.97it/s]  "
     ]
    }
   ],
   "source": [
    "model, y_pred = train(model, train_loader, val_loader, epochs=1)"
   ]
  },
  {
   "cell_type": "code",
   "execution_count": 110,
   "metadata": {},
   "outputs": [
    {
     "ename": "NameError",
     "evalue": "name 'model' is not defined",
     "output_type": "error",
     "traceback": [
      "\u001b[0;31m---------------------------------------------------------------------------\u001b[0m",
      "\u001b[0;31mNameError\u001b[0m                                 Traceback (most recent call last)",
      "Input \u001b[0;32mIn [110]\u001b[0m, in \u001b[0;36m<module>\u001b[0;34m\u001b[0m\n\u001b[1;32m      1\u001b[0m \u001b[38;5;28;01mimport\u001b[39;00m \u001b[38;5;21;01mgc\u001b[39;00m\n\u001b[1;32m      2\u001b[0m \u001b[38;5;28;01mimport\u001b[39;00m \u001b[38;5;21;01mtorch\u001b[39;00m\n\u001b[0;32m----> 4\u001b[0m \u001b[38;5;28;01mif\u001b[39;00m \u001b[43mmodel\u001b[49m:\n\u001b[1;32m      5\u001b[0m     model\u001b[38;5;241m.\u001b[39mcpu()\n\u001b[1;32m      6\u001b[0m     \u001b[38;5;28;01mdel\u001b[39;00m model\n",
      "\u001b[0;31mNameError\u001b[0m: name 'model' is not defined"
     ]
    },
    {
     "name": "stderr",
     "output_type": "stream",
     "text": [
      "wandb: Waiting for W&B process to finish... (success).\n",
      "wandb: ERROR Dropped streaming file chunk (see wandb/debug-internal.log)\n",
      "Exception in thread Thread-150:\n",
      "Traceback (most recent call last):\n",
      "  File \"/usr/local/lib/python3.8/dist-packages/wandb/apis/normalize.py\", line 26, in wrapper\n",
      "    return func(*args, **kwargs)\n",
      "  File \"/usr/local/lib/python3.8/dist-packages/wandb/sdk/internal/internal_api.py\", line 1692, in upload_urls\n",
      "    raise CommError(f\"Run does not exist {entity}/{project}/{run_id}.\")\n",
      "wandb.errors.CommError: Run does not exist sotoodaa/w266-project/2tykrhzi.\n",
      "\n",
      "During handling of the above exception, another exception occurred:\n",
      "\n",
      "Traceback (most recent call last):\n",
      "  File \"/usr/lib/python3.8/threading.py\", line 932, in _bootstrap_inner\n",
      "    self.run()\n",
      "  File \"/usr/local/lib/python3.8/dist-packages/wandb/filesync/upload_job.py\", line 67, in run\n",
      "    success = self.push()\n",
      "  File \"/usr/local/lib/python3.8/dist-packages/wandb/filesync/upload_job.py\", line 118, in push\n",
      "    _, upload_headers, result = self._api.upload_urls(project, [self.save_name])\n",
      "  File \"/usr/local/lib/python3.8/dist-packages/wandb/apis/normalize.py\", line 62, in wrapper\n",
      "    raise CommError(message, err).with_traceback(sys.exc_info()[2])\n",
      "  File \"/usr/local/lib/python3.8/dist-packages/wandb/apis/normalize.py\", line 26, in wrapper\n",
      "    return func(*args, **kwargs)\n",
      "  File \"/usr/local/lib/python3.8/dist-packages/wandb/sdk/internal/internal_api.py\", line 1692, in upload_urls\n",
      "    raise CommError(f\"Run does not exist {entity}/{project}/{run_id}.\")\n",
      "wandb.errors.CommError: Run does not exist sotoodaa/w266-project/2tykrhzi.\n",
      "Exception in thread Thread-151:\n",
      "Traceback (most recent call last):\n",
      "  File \"/usr/local/lib/python3.8/dist-packages/wandb/apis/normalize.py\", line 26, in wrapper\n",
      "Exception in thread Thread-152:\n",
      "Traceback (most recent call last):\n",
      "  File \"/usr/local/lib/python3.8/dist-packages/wandb/apis/normalize.py\", line 26, in wrapper\n",
      "    return func(*args, **kwargs)\n",
      "  File \"/usr/local/lib/python3.8/dist-packages/wandb/sdk/internal/internal_api.py\", line 1692, in upload_urls\n",
      "    return func(*args, **kwargs)\n",
      "  File \"/usr/local/lib/python3.8/dist-packages/wandb/sdk/internal/internal_api.py\", line 1692, in upload_urls\n",
      "    raise CommError(f\"Run does not exist {entity}/{project}/{run_id}.\")\n",
      "wandb.errors.CommError: Run does not exist sotoodaa/w266-project/2tykrhzi.\n",
      "\n",
      "During handling of the above exception, another exception occurred:\n",
      "\n",
      "Traceback (most recent call last):\n",
      "  File \"/usr/lib/python3.8/threading.py\", line 932, in _bootstrap_inner\n",
      "    raise CommError(f\"Run does not exist {entity}/{project}/{run_id}.\")\n",
      "wandb.errors.CommError: Run does not exist sotoodaa/w266-project/2tykrhzi.\n",
      "\n",
      "During handling of the above exception, another exception occurred:\n",
      "\n",
      "Traceback (most recent call last):\n",
      "  File \"/usr/lib/python3.8/threading.py\", line 932, in _bootstrap_inner\n",
      "    self.run()\n",
      "  File \"/usr/local/lib/python3.8/dist-packages/wandb/filesync/upload_job.py\", line 67, in run\n",
      "    self.run()\n",
      "  File \"/usr/local/lib/python3.8/dist-packages/wandb/filesync/upload_job.py\", line 67, in run\n",
      "    success = self.push()\n",
      "  File \"/usr/local/lib/python3.8/dist-packages/wandb/filesync/upload_job.py\", line 118, in push\n",
      "    success = self.push()\n",
      "  File \"/usr/local/lib/python3.8/dist-packages/wandb/filesync/upload_job.py\", line 118, in push\n",
      "    _, upload_headers, result = self._api.upload_urls(project, [self.save_name])\n",
      "  File \"/usr/local/lib/python3.8/dist-packages/wandb/apis/normalize.py\", line 62, in wrapper\n",
      "    _, upload_headers, result = self._api.upload_urls(project, [self.save_name])\n",
      "  File \"/usr/local/lib/python3.8/dist-packages/wandb/apis/normalize.py\", line 62, in wrapper\n",
      "    raise CommError(message, err).with_traceback(sys.exc_info()[2])\n",
      "  File \"/usr/local/lib/python3.8/dist-packages/wandb/apis/normalize.py\", line 26, in wrapper\n",
      "    raise CommError(message, err).with_traceback(sys.exc_info()[2])\n",
      "  File \"/usr/local/lib/python3.8/dist-packages/wandb/apis/normalize.py\", line 26, in wrapper\n",
      "    return func(*args, **kwargs)\n",
      "  File \"/usr/local/lib/python3.8/dist-packages/wandb/sdk/internal/internal_api.py\", line 1692, in upload_urls\n",
      "    return func(*args, **kwargs)\n",
      "  File \"/usr/local/lib/python3.8/dist-packages/wandb/sdk/internal/internal_api.py\", line 1692, in upload_urls\n",
      "    raise CommError(f\"Run does not exist {entity}/{project}/{run_id}.\")\n",
      "wandb.errors.CommError: Run does not exist sotoodaa/w266-project/2tykrhzi.\n",
      "    raise CommError(f\"Run does not exist {entity}/{project}/{run_id}.\")\n",
      "wandb.errors.CommError: Run does not exist sotoodaa/w266-project/2tykrhzi.\n",
      "Exception in thread Thread-149:\n",
      "Traceback (most recent call last):\n",
      "  File \"/usr/local/lib/python3.8/dist-packages/wandb/apis/normalize.py\", line 26, in wrapper\n",
      "    return func(*args, **kwargs)\n",
      "  File \"/usr/local/lib/python3.8/dist-packages/wandb/sdk/internal/internal_api.py\", line 1692, in upload_urls\n",
      "    raise CommError(f\"Run does not exist {entity}/{project}/{run_id}.\")\n",
      "wandb.errors.CommError: Run does not exist sotoodaa/w266-project/2tykrhzi.\n",
      "\n",
      "During handling of the above exception, another exception occurred:\n",
      "\n",
      "Traceback (most recent call last):\n",
      "  File \"/usr/lib/python3.8/threading.py\", line 932, in _bootstrap_inner\n",
      "    self.run()\n",
      "  File \"/usr/local/lib/python3.8/dist-packages/wandb/filesync/upload_job.py\", line 67, in run\n",
      "    success = self.push()\n",
      "  File \"/usr/local/lib/python3.8/dist-packages/wandb/filesync/upload_job.py\", line 118, in push\n",
      "    _, upload_headers, result = self._api.upload_urls(project, [self.save_name])\n",
      "  File \"/usr/local/lib/python3.8/dist-packages/wandb/apis/normalize.py\", line 62, in wrapper\n",
      "    raise CommError(message, err).with_traceback(sys.exc_info()[2])\n",
      "  File \"/usr/local/lib/python3.8/dist-packages/wandb/apis/normalize.py\", line 26, in wrapper\n",
      "    return func(*args, **kwargs)\n",
      "  File \"/usr/local/lib/python3.8/dist-packages/wandb/sdk/internal/internal_api.py\", line 1692, in upload_urls\n",
      "    raise CommError(f\"Run does not exist {entity}/{project}/{run_id}.\")\n",
      "wandb.errors.CommError: Run does not exist sotoodaa/w266-project/2tykrhzi.\n",
      "wandb: ERROR Dropped streaming file chunk (see wandb/debug-internal.log)\n",
      "wandb: - 0.002 MB of 0.629 MB uploaded (0.000 MB deduped)\n",
      "wandb: Run history:\n",
      "wandb: avg_loss █▇▅▆▆▆▆▅▅▅▅▆▆▅▅▅▄▄▃▃▃▂▂▂▁▁\n",
      "wandb: \n",
      "wandb: Run summary:\n",
      "wandb: avg_loss 0.2501\n",
      "wandb: \n",
      "wandb: Synced markdown-model-baseline: https://wandb.ai/sotoodaa/w266-project/runs/2tykrhzi\n",
      "wandb: Synced 5 W&B file(s), 0 media file(s), 0 artifact file(s) and 0 other file(s)\n",
      "wandb: Find logs at: ./wandb/run-20221107_183424-2tykrhzi/logs\n"
     ]
    }
   ],
   "source": [
    "# import gc\n",
    "# import torch\n",
    "\n",
    "# if model:\n",
    "#     model.cpu()\n",
    "#     del model\n",
    "# gc.collect()\n",
    "# torch.cuda.empty_cache()"
   ]
  },
  {
   "cell_type": "code",
   "execution_count": null,
   "metadata": {},
   "outputs": [],
   "source": []
  }
 ],
 "metadata": {
  "accelerator": "GPU",
  "colab": {
   "collapsed_sections": [],
   "provenance": []
  },
  "kernelspec": {
   "display_name": "Python 3 (ipykernel)",
   "language": "python",
   "name": "python3"
  },
  "language_info": {
   "codemirror_mode": {
    "name": "ipython",
    "version": 3
   },
   "file_extension": ".py",
   "mimetype": "text/x-python",
   "name": "python",
   "nbconvert_exporter": "python",
   "pygments_lexer": "ipython3",
   "version": "3.8.10"
  }
 },
 "nbformat": 4,
 "nbformat_minor": 4
}
